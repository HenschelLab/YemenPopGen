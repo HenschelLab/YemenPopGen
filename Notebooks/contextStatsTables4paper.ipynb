{
 "cells": [
  {
   "cell_type": "markdown",
   "id": "1d350895",
   "metadata": {},
   "source": [
    "\n",
    "\n",
    "|Study | Context | Overlap|\n",
    "|---|---|---|\n",
    "|Yemen | HGDP |329K|\n",
    "|Yemen | Reich \"1240K\" (Ancient)| 358K|\n",
    "|Yemen | Reich Human Origins | 118K|\n",
    "|Yemen| UKB| 91741|\n",
    "|Yemen| UAE| 609685|\n",
    "|---|---|---|\n",
    "|UAE| hgdp| 552476|\n",
    "|UAE| ReichHO| 179364|\n",
    "|UAE| Reich1240K|   596568|\n",
    "|UAE| UKB| 132315|\n",
    "\n",
    "\n",
    "|1. Study | 2. Study | Context | Overlap|\n",
    "|---|---|---|---|\n",
    "|Yemen| UAE| HGDP| 328303|  \n",
    "|Yemen| UAE| ReichHO | 118080|\n",
    "|Yemen| UAE| Reich1240K| 358610|\n",
    "|Yemen| UAE| UKB |91473|"
   ]
  },
  {
   "cell_type": "code",
   "execution_count": 5,
   "id": "83cf4672",
   "metadata": {},
   "outputs": [
    {
     "data": {
      "text/html": [
       "<div>\n",
       "<style scoped>\n",
       "    .dataframe tbody tr th:only-of-type {\n",
       "        vertical-align: middle;\n",
       "    }\n",
       "\n",
       "    .dataframe tbody tr th {\n",
       "        vertical-align: top;\n",
       "    }\n",
       "\n",
       "    .dataframe thead th {\n",
       "        text-align: right;\n",
       "    }\n",
       "</style>\n",
       "<table border=\"1\" class=\"dataframe\">\n",
       "  <thead>\n",
       "    <tr style=\"text-align: right;\">\n",
       "      <th></th>\n",
       "      <th>Country</th>\n",
       "      <th>ReichHO</th>\n",
       "      <th>1240K</th>\n",
       "    </tr>\n",
       "  </thead>\n",
       "  <tbody>\n",
       "    <tr>\n",
       "      <th>0</th>\n",
       "      <td>Ethiopia</td>\n",
       "      <td>13</td>\n",
       "      <td>1</td>\n",
       "    </tr>\n",
       "    <tr>\n",
       "      <th>1</th>\n",
       "      <td>Israel</td>\n",
       "      <td>369</td>\n",
       "      <td>236</td>\n",
       "    </tr>\n",
       "    <tr>\n",
       "      <th>2</th>\n",
       "      <td>Jordan</td>\n",
       "      <td>49</td>\n",
       "      <td>39</td>\n",
       "    </tr>\n",
       "    <tr>\n",
       "      <th>3</th>\n",
       "      <td>Lebanon</td>\n",
       "      <td>65</td>\n",
       "      <td>37</td>\n",
       "    </tr>\n",
       "    <tr>\n",
       "      <th>4</th>\n",
       "      <td>Sudan</td>\n",
       "      <td>4</td>\n",
       "      <td>1</td>\n",
       "    </tr>\n",
       "    <tr>\n",
       "      <th>5</th>\n",
       "      <td>Syria</td>\n",
       "      <td>24</td>\n",
       "      <td>16</td>\n",
       "    </tr>\n",
       "    <tr>\n",
       "      <th>6</th>\n",
       "      <td>Yemen</td>\n",
       "      <td>107</td>\n",
       "      <td>2</td>\n",
       "    </tr>\n",
       "  </tbody>\n",
       "</table>\n",
       "</div>"
      ],
      "text/plain": [
       "    Country  ReichHO  1240K\n",
       "0  Ethiopia       13      1\n",
       "1    Israel      369    236\n",
       "2    Jordan       49     39\n",
       "3   Lebanon       65     37\n",
       "4     Sudan        4      1\n",
       "5     Syria       24     16\n",
       "6     Yemen      107      2"
      ]
     },
     "execution_count": 5,
     "metadata": {},
     "output_type": "execute_result"
    }
   ],
   "source": [
    "import pandas as pd\n",
    "pd.read_csv('../Reich/reich1240K_vs_HO.csv', sep='\\t')"
   ]
  },
  {
   "cell_type": "code",
   "execution_count": 27,
   "id": "99a93c7b",
   "metadata": {},
   "outputs": [
    {
     "name": "stdout",
     "output_type": "stream",
     "text": [
      "\\begin{tabular}{llrr}\n",
      "\\toprule\n",
      "{} &   Country &  ReichHO &  1240K \\\\\n",
      "\\midrule\n",
      "0 &  Ethiopia &       13 &      1 \\\\\n",
      "1 &    Israel &      369 &    236 \\\\\n",
      "2 &    Jordan &       49 &     39 \\\\\n",
      "3 &   Lebanon &       65 &     37 \\\\\n",
      "4 &     Sudan &        4 &      1 \\\\\n",
      "5 &     Syria &       24 &     16 \\\\\n",
      "6 &     Yemen &      107 &      2 \\\\\n",
      "\\bottomrule\n",
      "\\end{tabular}\n",
      "\n"
     ]
    },
    {
     "name": "stderr",
     "output_type": "stream",
     "text": [
      "/tmp/ipykernel_195130/2855536996.py:1: FutureWarning: In future versions `DataFrame.to_latex` is expected to utilise the base implementation of `Styler.to_latex` for formatting and rendering. The arguments signature may therefore change. It is recommended instead to use `DataFrame.style.to_latex` which also contains additional functionality.\n",
      "  print(pd.read_csv('../Reich/reich1240K_vs_HO.csv', sep='\\t').to_latex())\n"
     ]
    }
   ],
   "source": [
    "print(pd.read_csv('../Reich/reich1240K_vs_HO.csv', sep='\\t').to_latex())"
   ]
  },
  {
   "cell_type": "code",
   "execution_count": 25,
   "id": "c2aa6591",
   "metadata": {},
   "outputs": [
    {
     "data": {
      "text/html": [
       "<div>\n",
       "<style scoped>\n",
       "    .dataframe tbody tr th:only-of-type {\n",
       "        vertical-align: middle;\n",
       "    }\n",
       "\n",
       "    .dataframe tbody tr th {\n",
       "        vertical-align: top;\n",
       "    }\n",
       "\n",
       "    .dataframe thead th {\n",
       "        text-align: right;\n",
       "    }\n",
       "</style>\n",
       "<table border=\"1\" class=\"dataframe\">\n",
       "  <thead>\n",
       "    <tr style=\"text-align: right;\">\n",
       "      <th></th>\n",
       "      <th>population</th>\n",
       "    </tr>\n",
       "    <tr>\n",
       "      <th>Geographic_origin</th>\n",
       "      <th></th>\n",
       "    </tr>\n",
       "  </thead>\n",
       "  <tbody>\n",
       "    <tr>\n",
       "      <th>Algeria_(Mzab)</th>\n",
       "      <td>30</td>\n",
       "    </tr>\n",
       "    <tr>\n",
       "      <th>Israel_(Carmel)</th>\n",
       "      <td>48</td>\n",
       "    </tr>\n",
       "    <tr>\n",
       "      <th>Israel_(Central)</th>\n",
       "      <td>51</td>\n",
       "    </tr>\n",
       "    <tr>\n",
       "      <th>Israel_(Negev)</th>\n",
       "      <td>49</td>\n",
       "    </tr>\n",
       "    <tr>\n",
       "      <th>Pakistan</th>\n",
       "      <td>100</td>\n",
       "    </tr>\n",
       "  </tbody>\n",
       "</table>\n",
       "</div>"
      ],
      "text/plain": [
       "                   population\n",
       "Geographic_origin            \n",
       "Algeria_(Mzab)             30\n",
       "Israel_(Carmel)            48\n",
       "Israel_(Central)           51\n",
       "Israel_(Negev)             49\n",
       "Pakistan                  100"
      ]
     },
     "execution_count": 25,
     "metadata": {},
     "output_type": "execute_result"
    }
   ],
   "source": [
    "#pd.set_option()\n",
    "context = 'Druze Bedouin Mozabite Palestinian'.split()\n",
    "context2 = 'Brahui Makrani Balochi Sindhi'.split()\n",
    "conDF = hgdp[hgdp.population.isin(context+context2)]\n",
    "conDF.groupby('Geographic_origin').count()[['population']]"
   ]
  },
  {
   "cell_type": "code",
   "execution_count": 28,
   "id": "d150d621",
   "metadata": {},
   "outputs": [
    {
     "name": "stdout",
     "output_type": "stream",
     "text": [
      "\\begin{tabular}{llrrllll}\n",
      "\\toprule\n",
      "{} & Context &  individual &   SNP & \\#Samples & \\#Samples/QC &     \\#SNPs &  \\#SNPs QC \\\\\n",
      "\\midrule\n",
      "0 &   1240K &        0.01 &  0.05 &     1661 &        1661 &    357926 &    349982 \\\\\n",
      "1 &   1240K &        0.30 &  0.20 &     5180 &        5089 &    351021 &    328359 \\\\\n",
      "2 &   1240K &        0.50 &  0.50 &     6414 &        6322 &    359158 &    338588 \\\\\n",
      "3 &      HO &        0.01 &  0.05 &     5798 &        5798 &    116786 &     97758 \\\\\n",
      "4 &      HO &        0.30 &  0.05 &     9291 &        8897 &     90403 &     83505 \\\\\n",
      "5 &      HO &        0.30 &  0.20 &     9291 &        8897 &    118050 &    105232 \\\\\n",
      "6 &      HO &        0.70 &  0.50 &    11151 &       10748 &    118286 &    107323 \\\\\n",
      "7 &    hgdp &        0.30 &  0.20 &     1212 &        1212 &    328833 &    147216 \\\\\n",
      "\\bottomrule\n",
      "\\end{tabular}\n",
      "\n"
     ]
    },
    {
     "name": "stderr",
     "output_type": "stream",
     "text": [
      "/tmp/ipykernel_195130/2073148.py:2: FutureWarning: In future versions `DataFrame.to_latex` is expected to utilise the base implementation of `Styler.to_latex` for formatting and rendering. The arguments signature may therefore change. It is recommended instead to use `DataFrame.style.to_latex` which also contains additional functionality.\n",
      "  print(stats.to_latex())\n"
     ]
    }
   ],
   "source": [
    "stats = pd.read_csv('../statsAll.csv', sep='\\t')\n",
    "print(stats.to_latex())"
   ]
  },
  {
   "cell_type": "code",
   "execution_count": null,
   "id": "fff5c07c",
   "metadata": {},
   "outputs": [],
   "source": []
  }
 ],
 "metadata": {
  "kernelspec": {
   "display_name": "Python 3 (ipykernel)",
   "language": "python",
   "name": "python3"
  },
  "language_info": {
   "codemirror_mode": {
    "name": "ipython",
    "version": 3
   },
   "file_extension": ".py",
   "mimetype": "text/x-python",
   "name": "python",
   "nbconvert_exporter": "python",
   "pygments_lexer": "ipython3",
   "version": "3.9.7"
  }
 },
 "nbformat": 4,
 "nbformat_minor": 5
}
