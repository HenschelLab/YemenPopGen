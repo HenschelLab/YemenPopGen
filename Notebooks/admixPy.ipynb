{
 "cells": [
  {
   "cell_type": "code",
   "execution_count": 1,
   "id": "369ba001",
   "metadata": {},
   "outputs": [
    {
     "name": "stdout",
     "output_type": "stream",
     "text": [
      "Collecting pyplink\n",
      "  Downloading pyplink-1.3.5-py2.py3-none-any.whl (19 kB)\n",
      "Requirement already satisfied: six>=1.9.0 in /home/ahenschel/miniconda3/envs/admix/lib/python3.9/site-packages (from pyplink) (1.15.0)\n",
      "Requirement already satisfied: numpy>=1.8.2 in /home/ahenschel/miniconda3/envs/admix/lib/python3.9/site-packages (from pyplink) (1.22.3)\n",
      "Requirement already satisfied: pandas>=0.17.1 in /home/ahenschel/miniconda3/envs/admix/lib/python3.9/site-packages (from pyplink) (1.4.2)\n",
      "Requirement already satisfied: python-dateutil>=2.8.1 in /home/ahenschel/miniconda3/envs/admix/lib/python3.9/site-packages (from pandas>=0.17.1->pyplink) (2.8.2)\n",
      "Requirement already satisfied: pytz>=2020.1 in /home/ahenschel/miniconda3/envs/admix/lib/python3.9/site-packages (from pandas>=0.17.1->pyplink) (2021.3)\n",
      "Installing collected packages: pyplink\n",
      "Successfully installed pyplink-1.3.5\n"
     ]
    }
   ],
   "source": [
    "!pip install pyplink\n"
   ]
  },
  {
   "cell_type": "code",
   "execution_count": 2,
   "id": "50d007f8",
   "metadata": {},
   "outputs": [],
   "source": [
    "from pyplink import PyPlink\n",
    "import pandas as pd\n",
    "import numpy as np"
   ]
  },
  {
   "cell_type": "code",
   "execution_count": 106,
   "id": "736c03c2",
   "metadata": {},
   "outputs": [],
   "source": [
    "def af(gt, pop1, pop2):\n",
    "    def avg(a): return a[a!=-1].mean()/2\n",
    "    return (avg(gt[pop1])-avg(gt[pop2]))**2"
   ]
  },
  {
   "cell_type": "code",
   "execution_count": 114,
   "id": "7a254c8f",
   "metadata": {},
   "outputs": [
    {
     "name": "stdout",
     "output_type": "stream",
     "text": [
      "rs1 [0 0 0 2 2 2] 1.0\n",
      "rs2 [0 0 0 2 2 2] 1.0\n",
      "rs3 [0 0 0 2 2 2] 1.0\n",
      "rs4 [0 0 0 2 2 2] 1.0\n"
     ]
    }
   ],
   "source": [
    "    \n",
    "bed = PyPlink(\"/home/ahenschel/Dropbox/Yemen/YemenGenomeAnalysis/AdmixTools_HO_mind0.7_geno_0.5_pop10/toy\")\n",
    "bim = bed.get_bim()\n",
    "fam = bed.get_fam()\n",
    "    \n",
    "pop1 = \"f1\"\n",
    "pop2 = \"f2\"\n",
    "\n",
    "pop1 = fam[fam.fid==pop1]\n",
    "pop2 = fam[fam.fid==pop2]\n",
    "\n",
    "#index = np.array(list(pop1.index) + list(pop2.index))\n",
    "\n",
    "#f2 = np.array([af(gt, pop1.index, pop2.index) for loc, gt in bed])\n",
    "for loc, gt in bed:\n",
    "    print(loc, gt, af(gt, pop1.index, pop2.index))\n"
   ]
  },
  {
   "cell_type": "code",
   "execution_count": 112,
   "id": "5e84201e",
   "metadata": {},
   "outputs": [
    {
     "data": {
      "text/plain": [
       "nan"
      ]
     },
     "execution_count": 112,
     "metadata": {},
     "output_type": "execute_result"
    }
   ],
   "source": [
    "f2[f2!=np.nan].mean()"
   ]
  },
  {
   "cell_type": "code",
   "execution_count": 80,
   "id": "98e34bb6",
   "metadata": {},
   "outputs": [
    {
     "data": {
      "text/plain": [
       "array([5, 6, 4])"
      ]
     },
     "execution_count": 80,
     "metadata": {},
     "output_type": "execute_result"
    }
   ],
   "source": [
    "\n",
    "a = np.array([5,6,4,-1,-1])\n",
    "a[a!=-1].mean()\n",
    "    "
   ]
  },
  {
   "cell_type": "code",
   "execution_count": 75,
   "id": "ab118626",
   "metadata": {},
   "outputs": [
    {
     "data": {
      "text/plain": [
       "array([ 5,  6,  4, -1, -1])"
      ]
     },
     "execution_count": 75,
     "metadata": {},
     "output_type": "execute_result"
    }
   ],
   "source": [
    "a"
   ]
  },
  {
   "cell_type": "code",
   "execution_count": 52,
   "id": "37c23605",
   "metadata": {},
   "outputs": [
    {
     "data": {
      "text/html": [
       "<div>\n",
       "<style scoped>\n",
       "    .dataframe tbody tr th:only-of-type {\n",
       "        vertical-align: middle;\n",
       "    }\n",
       "\n",
       "    .dataframe tbody tr th {\n",
       "        vertical-align: top;\n",
       "    }\n",
       "\n",
       "    .dataframe thead th {\n",
       "        text-align: right;\n",
       "    }\n",
       "</style>\n",
       "<table border=\"1\" class=\"dataframe\">\n",
       "  <thead>\n",
       "    <tr style=\"text-align: right;\">\n",
       "      <th></th>\n",
       "      <th>0</th>\n",
       "      <th>1</th>\n",
       "      <th>2</th>\n",
       "      <th>3</th>\n",
       "      <th>4</th>\n",
       "      <th>5</th>\n",
       "      <th>6</th>\n",
       "      <th>7</th>\n",
       "    </tr>\n",
       "  </thead>\n",
       "  <tbody>\n",
       "    <tr>\n",
       "      <th>0</th>\n",
       "      <td>1</td>\n",
       "      <td>0</td>\n",
       "      <td>0</td>\n",
       "      <td>0</td>\n",
       "      <td>0</td>\n",
       "      <td>0</td>\n",
       "      <td>2</td>\n",
       "      <td>1</td>\n",
       "    </tr>\n",
       "    <tr>\n",
       "      <th>1</th>\n",
       "      <td>0</td>\n",
       "      <td>0</td>\n",
       "      <td>0</td>\n",
       "      <td>0</td>\n",
       "      <td>0</td>\n",
       "      <td>1</td>\n",
       "      <td>0</td>\n",
       "      <td>0</td>\n",
       "    </tr>\n",
       "    <tr>\n",
       "      <th>2</th>\n",
       "      <td>0</td>\n",
       "      <td>0</td>\n",
       "      <td>1</td>\n",
       "      <td>0</td>\n",
       "      <td>0</td>\n",
       "      <td>1</td>\n",
       "      <td>1</td>\n",
       "      <td>1</td>\n",
       "    </tr>\n",
       "    <tr>\n",
       "      <th>3</th>\n",
       "      <td>0</td>\n",
       "      <td>1</td>\n",
       "      <td>0</td>\n",
       "      <td>0</td>\n",
       "      <td>0</td>\n",
       "      <td>0</td>\n",
       "      <td>0</td>\n",
       "      <td>1</td>\n",
       "    </tr>\n",
       "    <tr>\n",
       "      <th>4</th>\n",
       "      <td>0</td>\n",
       "      <td>0</td>\n",
       "      <td>0</td>\n",
       "      <td>0</td>\n",
       "      <td>0</td>\n",
       "      <td>1</td>\n",
       "      <td>0</td>\n",
       "      <td>-1</td>\n",
       "    </tr>\n",
       "  </tbody>\n",
       "</table>\n",
       "</div>"
      ],
      "text/plain": [
       "   0  1  2  3  4  5  6  7\n",
       "0  1  0  0  0  0  0  2  1\n",
       "1  0  0  0  0  0  1  0  0\n",
       "2  0  0  1  0  0  1  1  1\n",
       "3  0  1  0  0  0  0  0  1\n",
       "4  0  0  0  0  0  1  0 -1"
      ]
     },
     "execution_count": 52,
     "metadata": {},
     "output_type": "execute_result"
    }
   ],
   "source": [
    "df.head()"
   ]
  },
  {
   "cell_type": "code",
   "execution_count": 64,
   "id": "d11e8b88",
   "metadata": {},
   "outputs": [],
   "source": [
    "\n",
    "df[df==-1] = np.nan"
   ]
  },
  {
   "cell_type": "code",
   "execution_count": 72,
   "id": "29d909ed",
   "metadata": {},
   "outputs": [
    {
     "data": {
      "text/plain": [
       "0.003270899260169708"
      ]
     },
     "execution_count": 72,
     "metadata": {},
     "output_type": "execute_result"
    }
   ],
   "source": [
    "fA = df.iloc[:,:len(pop1)].mean(axis=1)/2\n",
    "fB = df.iloc[:,len(pop1):].mean(axis=1)/2\n",
    "f2 = fA - fB\n",
    "f2.mean()"
   ]
  },
  {
   "cell_type": "code",
   "execution_count": 70,
   "id": "c6e67c43",
   "metadata": {},
   "outputs": [
    {
     "data": {
      "text/plain": [
       "169    0.253966\n",
       "170    0.249815\n",
       "171    0.252375\n",
       "172    0.250399\n",
       "173    0.249280\n",
       "174    0.249830\n",
       "175    0.249298\n",
       "176    0.254126\n",
       "dtype: float64"
      ]
     },
     "execution_count": 70,
     "metadata": {},
     "output_type": "execute_result"
    }
   ],
   "source": [
    "fB"
   ]
  },
  {
   "cell_type": "code",
   "execution_count": 47,
   "id": "e5b8c8b5",
   "metadata": {},
   "outputs": [
    {
     "data": {
      "text/plain": [
       "0.14285714285714285"
      ]
     },
     "execution_count": 47,
     "metadata": {},
     "output_type": "execute_result"
    }
   ],
   "source": [
    "1/7."
   ]
  },
  {
   "cell_type": "code",
   "execution_count": null,
   "id": "1e00fc52",
   "metadata": {},
   "outputs": [],
   "source": []
  }
 ],
 "metadata": {
  "kernelspec": {
   "display_name": "Python 3 (ipykernel)",
   "language": "python",
   "name": "python3"
  },
  "language_info": {
   "codemirror_mode": {
    "name": "ipython",
    "version": 3
   },
   "file_extension": ".py",
   "mimetype": "text/x-python",
   "name": "python",
   "nbconvert_exporter": "python",
   "pygments_lexer": "ipython3",
   "version": "3.9.12"
  }
 },
 "nbformat": 4,
 "nbformat_minor": 5
}
