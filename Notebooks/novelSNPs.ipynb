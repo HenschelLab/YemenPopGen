{
 "cells": [
  {
   "cell_type": "code",
   "execution_count": 15,
   "id": "eb62ea62",
   "metadata": {},
   "outputs": [],
   "source": [
    "import tabix\n",
    "import pandas as pd"
   ]
  },
  {
   "cell_type": "code",
   "execution_count": 16,
   "id": "99d5799e",
   "metadata": {},
   "outputs": [],
   "source": [
    "def parseInfo(info):\n",
    "    infodict = dict([kv.split('=') for kv in info.split(';') if '=' in kv and not kv.endswith('=.')])\n",
    "    return {k: float(v) for k,v in infodict.items() if 'AF_' in k}\n",
    "def alleleFreq(gte):\n",
    "    ref,alt = 0,0\n",
    "    for rec in gte:\n",
    "        gt = rec.split(':')[0]\n",
    "        ref += gt.count('0')\n",
    "        alt += gt.count('1')\n",
    "    return int(100*alt/(ref+alt))\n",
    "        \n",
    "    "
   ]
  },
  {
   "cell_type": "code",
   "execution_count": 15,
   "id": "c86d7bac",
   "metadata": {},
   "outputs": [
    {
     "data": {
      "text/html": [
       "<div>\n",
       "<style scoped>\n",
       "    .dataframe tbody tr th:only-of-type {\n",
       "        vertical-align: middle;\n",
       "    }\n",
       "\n",
       "    .dataframe tbody tr th {\n",
       "        vertical-align: top;\n",
       "    }\n",
       "\n",
       "    .dataframe thead th {\n",
       "        text-align: right;\n",
       "    }\n",
       "</style>\n",
       "<table border=\"1\" class=\"dataframe\">\n",
       "  <thead>\n",
       "    <tr style=\"text-align: right;\">\n",
       "      <th></th>\n",
       "      <th>0</th>\n",
       "      <th>1</th>\n",
       "      <th>2</th>\n",
       "      <th>3</th>\n",
       "    </tr>\n",
       "  </thead>\n",
       "  <tbody>\n",
       "    <tr>\n",
       "      <th>0</th>\n",
       "      <td>22</td>\n",
       "      <td>321572</td>\n",
       "      <td>478979</td>\n",
       "      <td>151761</td>\n",
       "    </tr>\n",
       "  </tbody>\n",
       "</table>\n",
       "</div>"
      ],
      "text/plain": [
       "    0       1       2       3\n",
       "0  22  321572  478979  151761"
      ]
     },
     "execution_count": 15,
     "metadata": {},
     "output_type": "execute_result"
    }
   ],
   "source": [
    "\n",
    "\n",
    "\n",
    "dbsnpFiles = '/home/ahenschel/YemenGenomeAnalysis_Unused/WGS/DBSNP153/common_all_20180418_%s.pos'\n",
    "yemenFiles = '/home/ahenschel/YemenGenomeAnalysis_Unused/WGS/yemeni_annotated_fixed_%s.pos'\n",
    "\n",
    "posstats = []\n",
    "afhisto_total = []\n",
    "for chrom in range(22,23):\n",
    "    dbsnp = dbsnpFiles % chrom\n",
    "    yemen = yemenFiles % chrom\n",
    "    dbsnpPos = set([line.strip() for line in open(dbsnp)])\n",
    "    yemenPos = set([line.strip() for line in open(yemen)])\n",
    "    diff = set(yemenPos).difference(set(dbsnpPos))\n",
    "    afhisto =[0]*101\n",
    "    for pos in map(int,diff):\n",
    "        hit=list(tb.query(f'chr{chrom}', pos-1, pos))[0]    \n",
    "        af=alleleFreq(hit[9:])\n",
    "        afhisto[af] += 1\n",
    "    afhisto_total.append(afhisto)                  \n",
    "    posstats.append((chrom, len(yemenPos), len(dbsnpPos), len(diff)))\n",
    "pd.DataFrame(afhisto_total).T.to_csv('afhisto.csv')             \n",
    "pd.DataFrame(posstats).to_csv('posStats.csv')\n",
    "    "
   ]
  },
  {
   "cell_type": "code",
   "execution_count": 21,
   "id": "52aa6acc",
   "metadata": {},
   "outputs": [
    {
     "name": "stdout",
     "output_type": "stream",
     "text": [
      "root        1336       1  0 Dec21 ?        00:00:00 /usr/bin/python3 /usr/bin/networkd-dispatcher --run-startup-triggers\r\n",
      "root        1468       1  0 Dec21 ?        00:00:00 /usr/bin/python3 /usr/share/unattended-upgrades/unattended-upgrade-shutdown --wait-for-signal\r\n",
      "ahensch+    6502       1  0 Dec21 ?        00:01:56 /home/ahenschel/miniconda3/envs/admix/bin/python /home/ahenschel/miniconda3/envs/admix/bin/jupyter-notebook --ip=0.0.0.0\r\n",
      "ahensch+    7862       1  0 Dec21 ?        00:01:42 /home/ahenschel/miniconda3/envs/rgi/bin/python /home/ahenschel/miniconda3/envs/rgi/bin/jupyter-notebook --ip=0.0.0.0 --no-browser\r\n",
      "ahensch+    7874    7862  0 Dec21 ?        00:01:42 /home/ahenschel/miniconda3/envs/rgi/bin/python -m ipykernel_launcher -f /home/ahenschel/.local/share/jupyter/runtime/kernel-3e0a334a-5c22-4bd6-a3a8-4bdec44b4a5c.json\r\n",
      "ahensch+   22464    3310  0 Dec23 ?        00:00:07 /usr/bin/python3 /usr/bin/update-manager --no-update --no-focus-on-map\r\n",
      "ahensch+   30852    6502  0 Dec24 ?        00:00:22 /home/ahenschel/miniconda3/envs/admix/bin/python -m ipykernel_launcher -f /home/ahenschel/.local/share/jupyter/runtime/kernel-2bd8a6f1-b207-44d3-9ea6-219ad9a97228.json\r\n",
      "ahensch+   46862    6502  3 16:22 ?        00:04:27 /home/ahenschel/miniconda3/envs/admix/bin/python -m ipykernel_launcher -f /home/ahenschel/.local/share/jupyter/runtime/kernel-0904444e-9623-4d61-b3b4-21474406d8cf.json\r\n",
      "ahensch+   47541   47353 94 17:33 pts/3    00:48:32 python af_novelSNPs.py\r\n",
      "ahensch+   47818   46862  0 18:24 pts/4    00:00:00 /bin/bash -c ps -ef|grep python\r\n",
      "ahensch+   47820   47818  0 18:24 pts/4    00:00:00 grep python\r\n"
     ]
    }
   ],
   "source": [
    "!ps -ef|grep python"
   ]
  },
  {
   "cell_type": "code",
   "execution_count": 17,
   "id": "9ac682f7",
   "metadata": {},
   "outputs": [
    {
     "data": {
      "text/html": [
       "<div>\n",
       "<style scoped>\n",
       "    .dataframe tbody tr th:only-of-type {\n",
       "        vertical-align: middle;\n",
       "    }\n",
       "\n",
       "    .dataframe tbody tr th {\n",
       "        vertical-align: top;\n",
       "    }\n",
       "\n",
       "    .dataframe thead th {\n",
       "        text-align: right;\n",
       "    }\n",
       "</style>\n",
       "<table border=\"1\" class=\"dataframe\">\n",
       "  <thead>\n",
       "    <tr style=\"text-align: right;\">\n",
       "      <th></th>\n",
       "      <th>Unnamed: 0</th>\n",
       "      <th>0</th>\n",
       "      <th>1</th>\n",
       "      <th>2</th>\n",
       "      <th>3</th>\n",
       "      <th>4</th>\n",
       "      <th>5</th>\n",
       "      <th>6</th>\n",
       "      <th>7</th>\n",
       "      <th>8</th>\n",
       "      <th>...</th>\n",
       "      <th>12</th>\n",
       "      <th>13</th>\n",
       "      <th>14</th>\n",
       "      <th>15</th>\n",
       "      <th>16</th>\n",
       "      <th>17</th>\n",
       "      <th>18</th>\n",
       "      <th>19</th>\n",
       "      <th>20</th>\n",
       "      <th>21</th>\n",
       "    </tr>\n",
       "  </thead>\n",
       "  <tbody>\n",
       "    <tr>\n",
       "      <th>0</th>\n",
       "      <td>0</td>\n",
       "      <td>0</td>\n",
       "      <td>0</td>\n",
       "      <td>0</td>\n",
       "      <td>0</td>\n",
       "      <td>0</td>\n",
       "      <td>0</td>\n",
       "      <td>0</td>\n",
       "      <td>0</td>\n",
       "      <td>0</td>\n",
       "      <td>...</td>\n",
       "      <td>0</td>\n",
       "      <td>0</td>\n",
       "      <td>0</td>\n",
       "      <td>0</td>\n",
       "      <td>0</td>\n",
       "      <td>0</td>\n",
       "      <td>0</td>\n",
       "      <td>0</td>\n",
       "      <td>0</td>\n",
       "      <td>0</td>\n",
       "    </tr>\n",
       "    <tr>\n",
       "      <th>1</th>\n",
       "      <td>1</td>\n",
       "      <td>285612</td>\n",
       "      <td>259246</td>\n",
       "      <td>210746</td>\n",
       "      <td>198057</td>\n",
       "      <td>188477</td>\n",
       "      <td>177981</td>\n",
       "      <td>178328</td>\n",
       "      <td>157507</td>\n",
       "      <td>146282</td>\n",
       "      <td>...</td>\n",
       "      <td>109777</td>\n",
       "      <td>95264</td>\n",
       "      <td>91601</td>\n",
       "      <td>105959</td>\n",
       "      <td>101638</td>\n",
       "      <td>84878</td>\n",
       "      <td>81852</td>\n",
       "      <td>76690</td>\n",
       "      <td>49863</td>\n",
       "      <td>52590</td>\n",
       "    </tr>\n",
       "    <tr>\n",
       "      <th>2</th>\n",
       "      <td>2</td>\n",
       "      <td>89235</td>\n",
       "      <td>71628</td>\n",
       "      <td>58435</td>\n",
       "      <td>54496</td>\n",
       "      <td>52127</td>\n",
       "      <td>47385</td>\n",
       "      <td>50253</td>\n",
       "      <td>40189</td>\n",
       "      <td>41571</td>\n",
       "      <td>...</td>\n",
       "      <td>35896</td>\n",
       "      <td>27237</td>\n",
       "      <td>26266</td>\n",
       "      <td>28582</td>\n",
       "      <td>30000</td>\n",
       "      <td>24570</td>\n",
       "      <td>24901</td>\n",
       "      <td>23876</td>\n",
       "      <td>15692</td>\n",
       "      <td>17903</td>\n",
       "    </tr>\n",
       "    <tr>\n",
       "      <th>3</th>\n",
       "      <td>3</td>\n",
       "      <td>45728</td>\n",
       "      <td>34347</td>\n",
       "      <td>28765</td>\n",
       "      <td>25869</td>\n",
       "      <td>25780</td>\n",
       "      <td>22764</td>\n",
       "      <td>24561</td>\n",
       "      <td>20303</td>\n",
       "      <td>21877</td>\n",
       "      <td>...</td>\n",
       "      <td>18545</td>\n",
       "      <td>12793</td>\n",
       "      <td>13052</td>\n",
       "      <td>13922</td>\n",
       "      <td>14954</td>\n",
       "      <td>11731</td>\n",
       "      <td>11693</td>\n",
       "      <td>12990</td>\n",
       "      <td>8602</td>\n",
       "      <td>9947</td>\n",
       "    </tr>\n",
       "    <tr>\n",
       "      <th>4</th>\n",
       "      <td>4</td>\n",
       "      <td>29225</td>\n",
       "      <td>21676</td>\n",
       "      <td>17967</td>\n",
       "      <td>15963</td>\n",
       "      <td>15831</td>\n",
       "      <td>14376</td>\n",
       "      <td>15389</td>\n",
       "      <td>11782</td>\n",
       "      <td>13825</td>\n",
       "      <td>...</td>\n",
       "      <td>11855</td>\n",
       "      <td>8002</td>\n",
       "      <td>8324</td>\n",
       "      <td>8704</td>\n",
       "      <td>9436</td>\n",
       "      <td>7441</td>\n",
       "      <td>7282</td>\n",
       "      <td>8935</td>\n",
       "      <td>5917</td>\n",
       "      <td>6608</td>\n",
       "    </tr>\n",
       "  </tbody>\n",
       "</table>\n",
       "<p>5 rows × 23 columns</p>\n",
       "</div>"
      ],
      "text/plain": [
       "   Unnamed: 0       0       1       2       3       4       5       6       7  \\\n",
       "0           0       0       0       0       0       0       0       0       0   \n",
       "1           1  285612  259246  210746  198057  188477  177981  178328  157507   \n",
       "2           2   89235   71628   58435   54496   52127   47385   50253   40189   \n",
       "3           3   45728   34347   28765   25869   25780   22764   24561   20303   \n",
       "4           4   29225   21676   17967   15963   15831   14376   15389   11782   \n",
       "\n",
       "        8  ...      12     13     14      15      16     17     18     19  \\\n",
       "0       0  ...       0      0      0       0       0      0      0      0   \n",
       "1  146282  ...  109777  95264  91601  105959  101638  84878  81852  76690   \n",
       "2   41571  ...   35896  27237  26266   28582   30000  24570  24901  23876   \n",
       "3   21877  ...   18545  12793  13052   13922   14954  11731  11693  12990   \n",
       "4   13825  ...   11855   8002   8324    8704    9436   7441   7282   8935   \n",
       "\n",
       "      20     21  \n",
       "0      0      0  \n",
       "1  49863  52590  \n",
       "2  15692  17903  \n",
       "3   8602   9947  \n",
       "4   5917   6608  \n",
       "\n",
       "[5 rows x 23 columns]"
      ]
     },
     "execution_count": 17,
     "metadata": {},
     "output_type": "execute_result"
    }
   ],
   "source": [
    "import numpy as np\n",
    "\n",
    "afs = pd.read_csv('/home/ahenschel/YemenGenomeAnalysis_Unused/WGS/afhisto.csv')\n",
    "afs.head()"
   ]
  },
  {
   "cell_type": "code",
   "execution_count": null,
   "id": "6e3fb875",
   "metadata": {},
   "outputs": [],
   "source": [
    "afs.columns =['AF']+list(range(1,23))\n",
    "afs=afs.set_index('AF')"
   ]
  },
  {
   "cell_type": "code",
   "execution_count": 31,
   "id": "1ffdb141",
   "metadata": {},
   "outputs": [],
   "source": [
    "afs.index.name = 'Allele Frequency'"
   ]
  },
  {
   "cell_type": "code",
   "execution_count": 33,
   "id": "189aca84",
   "metadata": {},
   "outputs": [
    {
     "data": {
      "text/plain": [
       "Text(0, 0.5, 'Count')"
      ]
     },
     "execution_count": 33,
     "metadata": {},
     "output_type": "execute_result"
    },
    {
     "data": {
      "image/png": "[encoded data removed]",
      "text/plain": [
       "<Figure size 640x480 with 1 Axes>"
      ]
     },
     "metadata": {},
     "output_type": "display_data"
    }
   ],
   "source": [
    "ax = afs.sum(axis=1)[1:21].plot(kind='bar', logy=True)\n",
    "ax.set_ylabel('Count')"
   ]
  },
  {
   "cell_type": "code",
   "execution_count": 34,
   "id": "52fb3642",
   "metadata": {},
   "outputs": [],
   "source": [
    "ax.get_figure().savefig('alleleFreqs_WGS.pdf')"
   ]
  },
  {
   "cell_type": "code",
   "execution_count": 28,
   "id": "743943bf",
   "metadata": {},
   "outputs": [
    {
     "data": {
      "text/plain": [
       "1936819"
      ]
     },
     "execution_count": 28,
     "metadata": {},
     "output_type": "execute_result"
    }
   ],
   "source": [
    "afs.sum(axis=1)[5:].sum()\n",
    "#.plot(kind='bar')"
   ]
  },
  {
   "cell_type": "code",
   "execution_count": 14,
   "id": "1aa8fe37",
   "metadata": {},
   "outputs": [
    {
     "data": {
      "text/plain": [
       "3"
      ]
     },
     "execution_count": 14,
     "metadata": {},
     "output_type": "execute_result"
    }
   ],
   "source": [
    "tb = tabix.open(url)"
   ]
  },
  {
   "cell_type": "code",
   "execution_count": 5,
   "id": "6b872221",
   "metadata": {},
   "outputs": [],
   "source": [
    "url = '/home/ahenschel/YemenGenomeAnalysis_Unused/WGS/yemeni_annotated_fixed.vcf.bgz'\n",
    "tb = tabix.open(url)"
   ]
  },
  {
   "cell_type": "code",
   "execution_count": 7,
   "id": "bc1f75bb",
   "metadata": {},
   "outputs": [
    {
     "data": {
      "text/plain": [
       "0.011111111111111112"
      ]
     },
     "execution_count": 7,
     "metadata": {},
     "output_type": "execute_result"
    }
   ],
   "source": [
    "for pos in sorted(map(int,diff)\n",
    "hit=list(tb.query('chr22', 49443748, 49443749))[0]\n",
    "alleleFreq(hit[9:])\n"
   ]
  },
  {
   "cell_type": "code",
   "execution_count": 32,
   "id": "b56f1f18",
   "metadata": {
    "collapsed": true
   },
   "outputs": [
    {
     "data": {
      "text/plain": [
       "['0/0:22,0:22:36:.:.:0,36,540',\n",
       " '0/0:39,0:39:57:.:.:0,57,855',\n",
       " '0/0:37,0:37:0:.:.:0,0,241',\n",
       " '0/0:45,0:45:84:.:.:0,84,1260',\n",
       " '0/0:27,0:27:60:.:.:0,60,900',\n",
       " '0/0:25,0:25:57:.:.:0,57,855',\n",
       " '0/0:22,0:22:0:.:.:0,0,76',\n",
       " '0/0:37,0:37:69:.:.:0,69,1035',\n",
       " '0/0:29,0:29:54:.:.:0,54,810',\n",
       " '0/0:35,0:35:40:.:.:0,40,864',\n",
       " '0/0:28,0:28:66:.:.:0,66,990',\n",
       " '0/0:31,0:31:49:.:.:0,49,730',\n",
       " '0/0:13,0:13:24:.:.:0,24,360',\n",
       " '0/0:17,0:17:45:.:.:0,45,675',\n",
       " '0/0:15,0:15:29:.:.:0,29,417',\n",
       " '0/0:25,0:25:0:.:.:0,0,146',\n",
       " '0/0:19,0:19:30:.:.:0,30,503',\n",
       " '0/0:30,0:30:66:.:.:0,66,990',\n",
       " '0/0:18,0:18:36:.:.:0,36,540',\n",
       " '0/0:43,0:43:69:.:.:0,69,1035',\n",
       " '0/0:28,0:28:0:.:.:0,0,187',\n",
       " '0/0:33,0:33:40:.:.:0,40,784',\n",
       " '0/0:26,0:26:71:.:.:0,71,758',\n",
       " '0/0:35,0:35:75:.:.:0,75,1125',\n",
       " '0/0:41,0:41:66:.:.:0,66,990',\n",
       " '0/0:32,0:32:47:.:.:0,47,755',\n",
       " '0/0:24,0:24:63:.:.:0,63,945',\n",
       " '0/0:7,0:7:21:1|0:49443733_A_C:0,21,347',\n",
       " '0/0:36,0:36:84:.:.:0,84,1260',\n",
       " '0/0:32,0:32:38:.:.:0,38,795',\n",
       " '0/0:36,0:36:45:.:.:0,45,675',\n",
       " '0/0:33,0:33:23:.:.:0,23,868',\n",
       " '0/0:31,0:31:6:.:.:0,6,642',\n",
       " './.:0,0:0',\n",
       " '0/0:23,0:23:27:.:.:0,27,405',\n",
       " '0/0:75,0:75:99:.:.:0,120,1758',\n",
       " '0/0:49,0:49:93:.:.:0,93,1395',\n",
       " '0/1:24,5:29:98:1|0:49443706_C_CAAAAAAAAAAA:98,0,997',\n",
       " '0/0:54,0:54:12:.:.:0,12,1056',\n",
       " '0/0:24,0:24:14:.:.:0,14,457',\n",
       " '0/0:19,0:19:36:.:.:0,36,540',\n",
       " '0/0:24,0:24:24:.:.:0,24,526',\n",
       " '0/0:18,0:18:30:.:.:0,30,450',\n",
       " '0/0:28,0:28:6:.:.:0,6,658',\n",
       " '0/0:18,0:18:36:.:.:0,36,540',\n",
       " '0/0:61,0:61:22:.:.:0,22,1216']"
      ]
     },
     "execution_count": 32,
     "metadata": {},
     "output_type": "execute_result"
    }
   ],
   "source": [
    "hit[9:]"
   ]
  },
  {
   "cell_type": "code",
   "execution_count": 8,
   "id": "ebd384ec",
   "metadata": {},
   "outputs": [],
   "source": [
    "\n",
    "def query(chrom, pos):\n",
    "    pos = int(pos)\n",
    "    hit = list(tb.query(chrom, pos-1, pos))[0]\n",
    "    return [hit[1], pos, alleleFreq(hit[9:])]\n",
    "\n",
    "    #d = parseInfo(rec[7])\n",
    "    #d['pos'] = rec[1]\n",
    "    \n",
    "q = query(f'chr{chrom}', 49443749)\n",
    "#df = pd.DataFrame([query(f'chr{chrom}', pos) for pos in sorted(map(int,diff))[:10000]])\n",
    "#df[df[0]!=df[1]]\n",
    "               \n",
    "               \n",
    "               \n",
    "    \n"
   ]
  },
  {
   "cell_type": "code",
   "execution_count": 9,
   "id": "ed36d414",
   "metadata": {},
   "outputs": [
    {
     "data": {
      "text/plain": [
       "['49443749', 49443749, 0.011111111111111112]"
      ]
     },
     "execution_count": 9,
     "metadata": {},
     "output_type": "execute_result"
    }
   ],
   "source": [
    "q"
   ]
  },
  {
   "cell_type": "code",
   "execution_count": 9,
   "id": "2379c714",
   "metadata": {},
   "outputs": [
    {
     "data": {
      "text/html": [
       "<div>\n",
       "<style scoped>\n",
       "    .dataframe tbody tr th:only-of-type {\n",
       "        vertical-align: middle;\n",
       "    }\n",
       "\n",
       "    .dataframe tbody tr th {\n",
       "        vertical-align: top;\n",
       "    }\n",
       "\n",
       "    .dataframe thead th {\n",
       "        text-align: right;\n",
       "    }\n",
       "</style>\n",
       "<table border=\"1\" class=\"dataframe\">\n",
       "  <thead>\n",
       "    <tr style=\"text-align: right;\">\n",
       "      <th></th>\n",
       "      <th>0</th>\n",
       "      <th>1</th>\n",
       "    </tr>\n",
       "  </thead>\n",
       "  <tbody>\n",
       "    <tr>\n",
       "      <th>27</th>\n",
       "      <td>10516227</td>\n",
       "      <td>10516235</td>\n",
       "    </tr>\n",
       "    <tr>\n",
       "      <th>162</th>\n",
       "      <td>10530516</td>\n",
       "      <td>10530521</td>\n",
       "    </tr>\n",
       "    <tr>\n",
       "      <th>166</th>\n",
       "      <td>10530681</td>\n",
       "      <td>10530683</td>\n",
       "    </tr>\n",
       "    <tr>\n",
       "      <th>195</th>\n",
       "      <td>10531673</td>\n",
       "      <td>10531686</td>\n",
       "    </tr>\n",
       "    <tr>\n",
       "      <th>295</th>\n",
       "      <td>10541049</td>\n",
       "      <td>10541050</td>\n",
       "    </tr>\n",
       "    <tr>\n",
       "      <th>...</th>\n",
       "      <td>...</td>\n",
       "      <td>...</td>\n",
       "    </tr>\n",
       "    <tr>\n",
       "      <th>9854</th>\n",
       "      <td>11037485</td>\n",
       "      <td>11037557</td>\n",
       "    </tr>\n",
       "    <tr>\n",
       "      <th>9855</th>\n",
       "      <td>11037485</td>\n",
       "      <td>11037635</td>\n",
       "    </tr>\n",
       "    <tr>\n",
       "      <th>9856</th>\n",
       "      <td>11037485</td>\n",
       "      <td>11037644</td>\n",
       "    </tr>\n",
       "    <tr>\n",
       "      <th>9857</th>\n",
       "      <td>11037485</td>\n",
       "      <td>11037660</td>\n",
       "    </tr>\n",
       "    <tr>\n",
       "      <th>9894</th>\n",
       "      <td>11038112</td>\n",
       "      <td>11038134</td>\n",
       "    </tr>\n",
       "  </tbody>\n",
       "</table>\n",
       "<p>465 rows × 2 columns</p>\n",
       "</div>"
      ],
      "text/plain": [
       "             0         1\n",
       "27    10516227  10516235\n",
       "162   10530516  10530521\n",
       "166   10530681  10530683\n",
       "195   10531673  10531686\n",
       "295   10541049  10541050\n",
       "...        ...       ...\n",
       "9854  11037485  11037557\n",
       "9855  11037485  11037635\n",
       "9856  11037485  11037644\n",
       "9857  11037485  11037660\n",
       "9894  11038112  11038134\n",
       "\n",
       "[465 rows x 2 columns]"
      ]
     },
     "execution_count": 9,
     "metadata": {},
     "output_type": "execute_result"
    }
   ],
   "source": [
    "df[0] = df[0].astype(int)\n",
    "df[df[0]!=df[1]]"
   ]
  },
  {
   "cell_type": "code",
   "execution_count": 43,
   "id": "36d86a7f",
   "metadata": {},
   "outputs": [
    {
     "name": "stdout",
     "output_type": "stream",
     "text": [
      "['chr6', '73924', 'rs201634483']\n",
      "['chr6', '73927', '.']\n",
      "['chr6', '73928', 'rs148062531']\n"
     ]
    }
   ],
   "source": [
    "recs = tb.query(\"chr6\", 73926, 73928)\n",
    "for rec in recs:\n",
    "    print(rec[:3])"
   ]
  },
  {
   "cell_type": "code",
   "execution_count": 33,
   "id": "ad27b977",
   "metadata": {},
   "outputs": [
    {
     "data": {
      "text/plain": [
       "True"
      ]
     },
     "execution_count": 33,
     "metadata": {},
     "output_type": "execute_result"
    }
   ],
   "source": [
    "'54458147' in diff"
   ]
  },
  {
   "cell_type": "code",
   "execution_count": 14,
   "id": "aa376f66",
   "metadata": {},
   "outputs": [
    {
     "data": {
      "text/plain": [
       "['54458147',\n",
       " '111635527',\n",
       " '75702340',\n",
       " '145603729',\n",
       " '28760964',\n",
       " '7490047',\n",
       " '113579912',\n",
       " '10455079',\n",
       " '149988968',\n",
       " '88971781']"
      ]
     },
     "execution_count": 14,
     "metadata": {},
     "output_type": "execute_result"
    }
   ],
   "source": [
    "list(diff)[:10]"
   ]
  },
  {
   "cell_type": "code",
   "execution_count": null,
   "id": "8e8118da",
   "metadata": {},
   "outputs": [],
   "source": []
  }
 ],
 "metadata": {
  "kernelspec": {
   "display_name": "Python 3 (ipykernel)",
   "language": "python",
   "name": "python3"
  },
  "language_info": {
   "codemirror_mode": {
    "name": "ipython",
    "version": 3
   },
   "file_extension": ".py",
   "mimetype": "text/x-python",
   "name": "python",
   "nbconvert_exporter": "python",
   "pygments_lexer": "ipython3",
   "version": "3.9.12"
  }
 },
 "nbformat": 4,
 "nbformat_minor": 5
}
