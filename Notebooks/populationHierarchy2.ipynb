{
 "cells": [
  {
   "cell_type": "code",
   "execution_count": 1,
   "metadata": {},
   "outputs": [],
   "source": [
    "from scipy.spatial import distance\n",
    "import numpy as np\n",
    "from collections import Counter\n",
    "\n",
    "import pandas as pd\n",
    "import matplotlib.pyplot as plt\n"
   ]
  },
  {
   "cell_type": "code",
   "execution_count": 10,
   "metadata": {},
   "outputs": [
    {
     "name": "stdout",
     "output_type": "stream",
     "text": [
      "DistanceMatrices\tpopfile_1240K_5000.txt\tpopfile_HO_3000.txt\r\n",
      "popfile_1240K_1000.txt\tpopfile_HO_1000.txt\tpopfile_HO_4000.txt\r\n",
      "popfile_1240K_2000.txt\tpopfile_HO_2000a.txt\tpopfile_HO_5000.txt\r\n",
      "popfile_1240K_3000.txt\tpopfile_HO_2000.txt\r\n",
      "popfile_1240K_4000.txt\tpopfile_HO_3000a.txt\r\n"
     ]
    }
   ],
   "source": [
    "!ls ../Data"
   ]
  },
  {
   "cell_type": "code",
   "execution_count": 5,
   "metadata": {},
   "outputs": [],
   "source": [
    "yemenMeta = pd.read_csv('../Metadata/yemenRegions.csv', index_col='Id')\n",
    "yemenMeta.columns = ['Population']"
   ]
  },
  {
   "cell_type": "code",
   "execution_count": 7,
   "metadata": {},
   "outputs": [
    {
     "name": "stdout",
     "output_type": "stream",
     "text": [
      "(5392, 4)\n"
     ]
    }
   ],
   "source": [
    "reichset = ['1240K', 'HO'][1]\n",
    "if reichset=='1240K':\n",
    "    columns2keep = [1,9, 12, 14]\n",
    "elif reichset=='HO':\n",
    "    columns2keep = [1, 5, 7, 9]\n",
    "columnNames = 'Id Date Group_Label Country'.split()\n",
    "\n",
    "reich=pd.read_csv(f\"../Reich/v44.3_{reichset}_public.anno\", sep='\\t')\n",
    "\n",
    "reich = reich.iloc[:,columns2keep]\n",
    "\n",
    "reich.columns = columnNames\n",
    "## QC\n",
    "reich = reich[~reich.Group_Label.str.startswith(\"Ignore_\")]\n",
    "reich = reich[~reich.Group_Label.str.endswith(\"_outlier\")]\n",
    "\n",
    "## Ancient subset\n",
    "reichAncient = reich[reich.Date > 10]\n",
    "print(reichAncient.shape)\n",
    "reich = reich[['Id', 'Group_Label']].set_index('Id')\n",
    "reich.columns = ['Population'] \n",
    "meta = pd.concat([yemenMeta, reich])"
   ]
  },
  {
   "cell_type": "markdown",
   "metadata": {},
   "source": [
    "### Loading PCA data"
   ]
  },
  {
   "cell_type": "code",
   "execution_count": 8,
   "metadata": {},
   "outputs": [],
   "source": [
    "pca = pd.read_csv(f'../FlashPCAResults/YemenReichHO/pcs.txt', delimiter='\\t')\n",
    "ids = [iid.split('_')[-1] for iid in pca['IID']]\n",
    "pca['FID1'] = ids\n",
    "pca.set_index('FID1', inplace=True)\n",
    "ddf = pca.join(meta).dropna(subset=['Population'])"
   ]
  },
  {
   "cell_type": "markdown",
   "metadata": {},
   "source": [
    "### Population distances and Hierarchical clustering of populations\n",
    "The goal\n",
    "* combine highly similar populations (GujaratiA, GujaratiB). This brings more statistical power to subsequent analyses, like F3, F4 etc.\n",
    "* See where our Yemen populations fall into\n",
    "Method: for 2 populations A and B, calculate all pairwise Euclidean distances of samples from A, B, yielding 48 distances, which then is averaged.  \n",
    "A sample is represented by its first 10 PCs (PC1-PC10).\n",
    "https://docs.scipy.org/doc/scipy-0.14.0/reference/generated/scipy.spatial.distance.cdist.html#scipy.spatial.distance.cdist"
   ]
  },
  {
   "cell_type": "code",
   "execution_count": 9,
   "metadata": {},
   "outputs": [],
   "source": [
    "def popdistance(pop1, pop2):\n",
    "    pop1DF = ddf[ddf.Population==pop1]\n",
    "    pop2DF = ddf[ddf.Population==pop2]\n",
    "    XA = pop1DF.iloc[:,2:12].to_numpy()\n",
    "    XB = pop2DF.iloc[:,2:12].to_numpy()\n",
    "    return distance.cdist(XA, XB, 'euclidean').mean()    "
   ]
  },
  {
   "cell_type": "code",
   "execution_count": null,
   "metadata": {},
   "outputs": [],
   "source": [
    "pops = sorted(Counter(ddf.Population))"
   ]
  },
  {
   "cell_type": "code",
   "execution_count": 12,
   "metadata": {},
   "outputs": [],
   "source": [
    "precalc = True ## for the time being, note, D-matrix currently only for 678 populations\n",
    "if precalc:\n",
    "    D1 = pd.read_csv('../Data/DistanceMatrices/distanceMatrix_thinnedContext.csv', index_col=0)\n",
    "    #with open('populationDistance.npy','rb') as popD:\n",
    "    #    D = np.load(popD)            \n",
    "else:\n",
    "    pops = sorted(Counter(ddf.Region))\n",
    "    D = np.zeros((len(pops),len(pops)))\n",
    "    for i1 in range(len(pops)):\n",
    "        for i2 in range(i1+1, len(pops)):\n",
    "            D[i1,i2] = popdistance(pops[i1], pops[i2])\n",
    "    D += D.T\n",
    "    D1 = pd.DataFrame(D, index=pops, columns=pops)\n",
    "    D1.to_csv(f'../Data/DistancMatrices/distanceMatrix_{len(pops)}_{reichset}.csv')        \n",
    "       "
   ]
  },
  {
   "cell_type": "code",
   "execution_count": null,
   "metadata": {},
   "outputs": [],
   "source": []
  }
 ],
 "metadata": {
  "kernelspec": {
   "display_name": "Python 3",
   "language": "python",
   "name": "python3"
  }
 },
 "nbformat": 4,
 "nbformat_minor": 4
}
