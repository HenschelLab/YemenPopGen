{
 "cells": [
  {
   "cell_type": "markdown",
   "id": "54c4b88e",
   "metadata": {},
   "source": [
    "# Population Info for Plink's fam files\n",
    "\n",
    "* filling the first columns (family id) with population ids.\n",
    "* helps to run Admixtools2 (in R) conveniently (without the need for EIGENSTRAT files, thus no need fixing pop-info into the ind files, fixIndiv)"
   ]
  },
  {
   "cell_type": "code",
   "execution_count": 1,
   "id": "f3b8beb7",
   "metadata": {},
   "outputs": [
    {
     "name": "stderr",
     "output_type": "stream",
     "text": [
      "/tmp/ipykernel_1013887/438737511.py:3: DeprecationWarning: Importing display from IPython.core.display is deprecated since IPython 7.14, please import from IPython display\n",
      "  from IPython.core.display import display, HTML\n"
     ]
    },
    {
     "data": {
      "text/html": [
       "<style>.container { width:100% !important; }</style>"
      ],
      "text/plain": [
       "<IPython.core.display.HTML object>"
      ]
     },
     "metadata": {},
     "output_type": "display_data"
    }
   ],
   "source": [
    "import pandas as pd\n",
    "import numpy as np\n",
    "from IPython.core.display import display, HTML\n",
    "display(HTML(\"<style>.container { width:100% !important; }</style>\"))"
   ]
  },
  {
   "cell_type": "code",
   "execution_count": 4,
   "id": "52b974da",
   "metadata": {},
   "outputs": [
    {
     "data": {
      "text/html": [
       "<div>\n",
       "<style scoped>\n",
       "    .dataframe tbody tr th:only-of-type {\n",
       "        vertical-align: middle;\n",
       "    }\n",
       "\n",
       "    .dataframe tbody tr th {\n",
       "        vertical-align: top;\n",
       "    }\n",
       "\n",
       "    .dataframe thead th {\n",
       "        text-align: right;\n",
       "    }\n",
       "</style>\n",
       "<table border=\"1\" class=\"dataframe\">\n",
       "  <thead>\n",
       "    <tr style=\"text-align: right;\">\n",
       "      <th></th>\n",
       "      <th>Population</th>\n",
       "    </tr>\n",
       "    <tr>\n",
       "      <th>SampleID</th>\n",
       "      <th></th>\n",
       "    </tr>\n",
       "  </thead>\n",
       "  <tbody>\n",
       "    <tr>\n",
       "      <th>EGAN00001456743</th>\n",
       "      <td>Taizz</td>\n",
       "    </tr>\n",
       "    <tr>\n",
       "      <th>EGAN00001456617</th>\n",
       "      <td>Bayda</td>\n",
       "    </tr>\n",
       "    <tr>\n",
       "      <th>EGAN00001456660</th>\n",
       "      <td>Saada</td>\n",
       "    </tr>\n",
       "    <tr>\n",
       "      <th>EGAN00001456573</th>\n",
       "      <td>Mahwit</td>\n",
       "    </tr>\n",
       "    <tr>\n",
       "      <th>EGAN00001456593</th>\n",
       "      <td>Amran</td>\n",
       "    </tr>\n",
       "    <tr>\n",
       "      <th>...</th>\n",
       "      <td>...</td>\n",
       "    </tr>\n",
       "    <tr>\n",
       "      <th>longranger222_wgs_27726_APPG7623347_GRCh38_gatk</th>\n",
       "      <td>JORDAN</td>\n",
       "    </tr>\n",
       "    <tr>\n",
       "      <th>longranger222_wgs_27726_APPG7623348_GRCh38_gatk</th>\n",
       "      <td>YEMEN</td>\n",
       "    </tr>\n",
       "    <tr>\n",
       "      <th>longranger222_wgs_APPG7623349_GRCh38_gatk</th>\n",
       "      <td>SYRIA</td>\n",
       "    </tr>\n",
       "    <tr>\n",
       "      <th>longranger222_wgs_27726_APPG7623350_GRCh38_gatk</th>\n",
       "      <td>SAUDI</td>\n",
       "    </tr>\n",
       "    <tr>\n",
       "      <th>longranger222_wgs_27726_APPG7623351_GRCh38_gatk</th>\n",
       "      <td>SAUDI</td>\n",
       "    </tr>\n",
       "  </tbody>\n",
       "</table>\n",
       "<p>1247 rows × 1 columns</p>\n",
       "</div>"
      ],
      "text/plain": [
       "                                                Population\n",
       "SampleID                                                  \n",
       "EGAN00001456743                                      Taizz\n",
       "EGAN00001456617                                      Bayda\n",
       "EGAN00001456660                                      Saada\n",
       "EGAN00001456573                                     Mahwit\n",
       "EGAN00001456593                                      Amran\n",
       "...                                                    ...\n",
       "longranger222_wgs_27726_APPG7623347_GRCh38_gatk     JORDAN\n",
       "longranger222_wgs_27726_APPG7623348_GRCh38_gatk      YEMEN\n",
       "longranger222_wgs_APPG7623349_GRCh38_gatk            SYRIA\n",
       "longranger222_wgs_27726_APPG7623350_GRCh38_gatk      SAUDI\n",
       "longranger222_wgs_27726_APPG7623351_GRCh38_gatk      SAUDI\n",
       "\n",
       "[1247 rows x 1 columns]"
      ]
     },
     "execution_count": 4,
     "metadata": {},
     "output_type": "execute_result"
    }
   ],
   "source": [
    "def popfix(pop):\n",
    "    if pop.startswith('Bantu'): return 'Bantu'\n",
    "    return pop\n",
    "\n",
    "yemen = pd.read_excel(\"../Metadata/Yemen Codes.xlsx\", sheet_name=\"WGS samples\").set_index('sid')\n",
    "hgdpMeta = \"../Data/HGDP/HGDPid_populations.csv.gz\"\n",
    "hgdp = pd.read_csv(hgdpMeta).set_index('Id')\n",
    "hgdp.population = [popfix(pop) for pop in hgdp.population]\n",
    "hgdp.population.value_counts()\n",
    "appg = pd.read_csv(\"../Metadata/appg.meta.csv\", sep=' ').set_index('long_ID')\n",
    "\n",
    "a1 = appg[['population']]\n",
    "a1.columns = ['Population']\n",
    "a1.index.name = 'SampleID'\n",
    "\n",
    "h1 = hgdp[['population']]\n",
    "h1.columns = ['Population']\n",
    "h1.index.name = 'SampleID'\n",
    "\n",
    "y1 = yemen[['region']]\n",
    "y1.columns = ['Population']\n",
    "y1.index.name = 'SampleID'\n",
    "\n",
    "#a1 = appg[['short_ID', 'population']]\n",
    "#a1.columns = ['SampleID', 'Population']\n",
    "#a1 = a1.set_index('SampleID')\n",
    "\n",
    "allmeta = pd.concat([y1,h1,a1], axis=0)\n",
    "allmeta\n"
   ]
  },
  {
   "cell_type": "code",
   "execution_count": null,
   "id": "c377b7d6",
   "metadata": {},
   "outputs": [],
   "source": [
    "dallmeta = dict(allmeta.Population)"
   ]
  },
  {
   "cell_type": "code",
   "execution_count": null,
   "id": "181fe6a0",
   "metadata": {},
   "outputs": [],
   "source": [
    "famfile = '~/YemenGenomeAnalysis_Unused/WGS/Yemeni.HGDP.APPG.mask.autos.AF_fix_QC.fam'\n",
    "fambak = famfile + '_bak'\n",
    "os.system(f'mv {famfile} {fambak}')"
   ]
  },
  {
   "cell_type": "code",
   "execution_count": null,
   "id": "0aade886",
   "metadata": {},
   "outputs": [],
   "source": [
    "fam = pd.read_csv(famfile, sep=' ',header=None)\n",
    "popIds = []\n",
    "for iid in fam[1]:\n",
    "    if iid=='EGAN00001456590': popIds.append('YEMEN')\n",
    "    elif iid=='longranger222_wgs_27426_APPG7555931_GRCh38_gatk': popIds.append('APPGMISC')\n",
    "    else: popIds.append(dallmeta[iid])\n",
    "#    if not iid in dallmeta:\n",
    "#        print(\"Not found:\", iid)\n",
    "fam[0] = popIds\n",
    "fam.to_csv(famfile, header=False, index=False, sep=' ')"
   ]
  }
 ],
 "metadata": {
  "kernelspec": {
   "display_name": "Python 3 (ipykernel)",
   "language": "python",
   "name": "python3"
  },
  "language_info": {
   "codemirror_mode": {
    "name": "ipython",
    "version": 3
   },
   "file_extension": ".py",
   "mimetype": "text/x-python",
   "name": "python",
   "nbconvert_exporter": "python",
   "pygments_lexer": "ipython3",
   "version": "3.9.12"
  }
 },
 "nbformat": 4,
 "nbformat_minor": 5
}
